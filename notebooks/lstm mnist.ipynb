{
 "cells": [
  {
   "cell_type": "code",
   "execution_count": 1,
   "metadata": {},
   "outputs": [],
   "source": [
    "import numpy as np\n",
    "import pandas as pd"
   ]
  },
  {
   "cell_type": "code",
   "execution_count": 1,
   "metadata": {},
   "outputs": [],
   "source": [
    "from tensorflow.keras.datasets import fashion_mnist\n",
    "(X, y), (X_test, y_test) = fashion_mnist.load_data()"
   ]
  },
  {
   "cell_type": "code",
   "execution_count": 2,
   "metadata": {},
   "outputs": [],
   "source": [
    "from sklearn.model_selection import train_test_split\n",
    "X_train, X_val, y_train, y_val = train_test_split(X, y, test_size=0.2, random_state=13)\n"
   ]
  },
  {
   "cell_type": "code",
   "execution_count": 3,
   "metadata": {},
   "outputs": [],
   "source": [
    "img_rows, img_cols = 28, 28\n",
    "input_shape = (img_rows, img_cols)"
   ]
  },
  {
   "cell_type": "code",
   "execution_count": null,
   "metadata": {},
   "outputs": [],
   "source": []
  },
  {
   "cell_type": "code",
   "execution_count": 51,
   "metadata": {},
   "outputs": [],
   "source": [
    "X_train = X_train.reshape(X_train.shape[0], img_rows, img_cols)\n",
    "X_test = X_test.reshape(X_test.shape[0], img_rows, img_cols)\n",
    "X_val = X_val.reshape(X_val.shape[0], img_rows, img_cols)"
   ]
  },
  {
   "cell_type": "code",
   "execution_count": 5,
   "metadata": {},
   "outputs": [],
   "source": [
    "X_train = X_train.astype('float32')\n",
    "X_test = X_test.astype('float32')\n",
    "X_val = X_val.astype('float32')\n",
    "X_train /= 255\n",
    "X_test /= 255\n",
    "X_val /= 255"
   ]
  },
  {
   "cell_type": "code",
   "execution_count": 6,
   "metadata": {},
   "outputs": [
    {
     "data": {
      "text/plain": [
       "(10000, 10)"
      ]
     },
     "execution_count": 6,
     "metadata": {},
     "output_type": "execute_result"
    }
   ],
   "source": [
    "from tensorflow.keras.utils import to_categorical\n",
    "y_train = to_categorical(y_train, 10)\n",
    "y_test = to_categorical(y_test, 10)\n",
    "y_val = to_categorical(y_val, 10)\n",
    "y_test.shape"
   ]
  },
  {
   "cell_type": "code",
   "execution_count": 7,
   "metadata": {},
   "outputs": [],
   "source": [
    "import tensorflow as tf\n",
    "from tensorflow.keras.datasets import imdb\n",
    "from tensorflow.keras.models import Sequential\n",
    "from tensorflow.keras.layers import *\n",
    "from tensorflow.keras.preprocessing import sequence\n",
    "from tensorflow import keras\n",
    "from tensorflow.keras.datasets import mnist\n",
    "from tensorflow.keras.models import Model\n"
   ]
  },
  {
   "cell_type": "code",
   "execution_count": 13,
   "metadata": {},
   "outputs": [],
   "source": [
    "\n",
    "batch_size = 128\n",
    "num_classes = 10\n",
    "epochs = 2\n",
    "\n",
    "row_hidden = 128\n",
    "col_hidden = 128\n",
    "\n",
    "row, col = X_train.shape[1:]\n"
   ]
  },
  {
   "cell_type": "code",
   "execution_count": 21,
   "metadata": {},
   "outputs": [
    {
     "name": "stdout",
     "output_type": "stream",
     "text": [
      "Model: \"sequential_3\"\n",
      "_________________________________________________________________\n",
      "Layer (type)                 Output Shape              Param #   \n",
      "=================================================================\n",
      "conv1d_2 (Conv1D)            (None, 28, 32)            2720      \n",
      "_________________________________________________________________\n",
      "max_pooling1d_2 (MaxPooling1 (None, 14, 32)            0         \n",
      "_________________________________________________________________\n",
      "bidirectional_2 (Bidirection (None, 14, 256)           164864    \n",
      "_________________________________________________________________\n",
      "lstm_5 (LSTM)                (None, 128)               197120    \n",
      "_________________________________________________________________\n",
      "dense_2 (Dense)              (None, 10)                1290      \n",
      "=================================================================\n",
      "Total params: 365,994\n",
      "Trainable params: 365,994\n",
      "Non-trainable params: 0\n",
      "_________________________________________________________________\n",
      "None\n"
     ]
    }
   ],
   "source": [
    "embedding_vecor_length = 32\n",
    "model = Sequential()\n",
    "model.add(InputLayer(input_shape=(row, col)))\n",
    "model.add(Conv1D( filters=32, kernel_size=3, padding='same', activation='relu'))\n",
    "model.add(MaxPooling1D(pool_size=2))\n",
    "# model.add(LSTM(100))\n",
    "# model.add(LSTM(row_hidden, return_sequences = True))\n",
    "model.add(Bidirectional(LSTM(row_hidden, return_sequences = True)))\n",
    "model.add(LSTM(col_hidden))\n",
    "# model.add(Dense(1, activation='sigmoid'))\n",
    "model.add(Dense(num_classes, activation='softmax'))\n",
    "model.compile(loss='categorical_crossentropy', optimizer='adam', metrics=['accuracy'])\n",
    "print(model.summary())"
   ]
  },
  {
   "cell_type": "code",
   "execution_count": 22,
   "metadata": {},
   "outputs": [
    {
     "name": "stdout",
     "output_type": "stream",
     "text": [
      "Epoch 1/2\n",
      "375/375 [==============================] - 13s 27ms/step - loss: 0.6553 - accuracy: 0.7566 - val_loss: 0.4708 - val_accuracy: 0.8263\n",
      "Epoch 2/2\n",
      "375/375 [==============================] - 9s 25ms/step - loss: 0.4320 - accuracy: 0.8391 - val_loss: 0.4118 - val_accuracy: 0.8464\n"
     ]
    }
   ],
   "source": [
    "history = model.fit(X_train, y_train,\n",
    "              batch_size=batch_size,\n",
    "              epochs=epochs,\n",
    "              verbose=1,\n",
    "              validation_data=(X_val, y_val))"
   ]
  },
  {
   "cell_type": "code",
   "execution_count": 23,
   "metadata": {},
   "outputs": [
    {
     "name": "stdout",
     "output_type": "stream",
     "text": [
      "Test loss: 0.41747631063461305\n",
      "Test accuracy: 0.8403\n"
     ]
    }
   ],
   "source": [
    "scores = model.evaluate(X_test, y_test, verbose=0)\n",
    "print('Test loss:', scores[0])\n",
    "print('Test accuracy:', scores[1])"
   ]
  },
  {
   "cell_type": "code",
   "execution_count": 24,
   "metadata": {},
   "outputs": [
    {
     "data": {
      "text/plain": [
       "array([[1.27215180e-04, 2.36790564e-04, 5.17258275e-04, ...,\n",
       "        1.71910453e-02, 3.72411996e-04, 9.55190346e-01],\n",
       "       [2.41774062e-03, 5.56369973e-03, 7.81365862e-01, ...,\n",
       "        7.81396007e-05, 1.99361367e-03, 6.14229515e-04],\n",
       "       [4.70098983e-04, 9.97328979e-01, 9.43380491e-05, ...,\n",
       "        2.23075083e-04, 1.06276472e-04, 9.46687121e-05],\n",
       "       ...,\n",
       "       [1.86848840e-03, 7.54887662e-05, 4.00981290e-04, ...,\n",
       "        4.40402329e-04, 9.93561232e-01, 9.55648700e-05],\n",
       "       [4.52185121e-04, 9.90356500e-01, 3.28732837e-04, ...,\n",
       "        4.12790542e-04, 4.10923035e-04, 4.59031744e-04],\n",
       "       [3.39804162e-04, 1.08750958e-04, 1.92336006e-04, ...,\n",
       "        5.51964841e-02, 2.84602148e-03, 2.54559701e-03]])"
      ]
     },
     "execution_count": 24,
     "metadata": {},
     "output_type": "execute_result"
    }
   ],
   "source": [
    "model.predict(X_test)"
   ]
  },
  {
   "cell_type": "code",
   "execution_count": 53,
   "metadata": {},
   "outputs": [
    {
     "ename": "ValueError",
     "evalue": "too many values to unpack (expected 2)",
     "output_type": "error",
     "traceback": [
      "\u001b[1;31m---------------------------------------------------------------------------\u001b[0m",
      "\u001b[1;31mValueError\u001b[0m                                Traceback (most recent call last)",
      "Cell \u001b[1;32mIn[53], line 14\u001b[0m\n\u001b[0;32m     11\u001b[0m row_hidden \u001b[39m=\u001b[39m \u001b[39m128\u001b[39m\n\u001b[0;32m     12\u001b[0m col_hidden \u001b[39m=\u001b[39m \u001b[39m128\u001b[39m\n\u001b[1;32m---> 14\u001b[0m row, col \u001b[39m=\u001b[39m X_train\u001b[39m.\u001b[39mshape[\u001b[39m1\u001b[39m:]\n\u001b[0;32m     16\u001b[0m \u001b[39minput\u001b[39m \u001b[39m=\u001b[39m Input(shape\u001b[39m=\u001b[39m(row, col))\n\u001b[0;32m     18\u001b[0m \u001b[39mdef\u001b[39;00m \u001b[39mlstm_pipe\u001b[39m(in_layer):\n",
      "\u001b[1;31mValueError\u001b[0m: too many values to unpack (expected 2)"
     ]
    }
   ],
   "source": [
    "from tensorflow import keras\n",
    "from tensorflow.keras.datasets import mnist\n",
    "from tensorflow.keras.models import Model\n",
    "from tensorflow.keras.layers import Input, Dense, TimeDistributed\n",
    "from tensorflow.keras.layers import LSTM, Bidirectional, Conv1D, concatenate, Permute, Dropout\n",
    "\n",
    "batch_size = 128\n",
    "num_classes = 10\n",
    "epochs = 2\n",
    "\n",
    "row_hidden = 128\n",
    "col_hidden = 128\n",
    "\n",
    "row, col = X_train.shape[1:]\n",
    "\n",
    "input = Input(shape=(row, col))\n",
    "\n",
    "def lstm_pipe(in_layer):\n",
    "    x = Conv1D(row_hidden, kernel_size=3, padding = 'same')(in_layer)\n",
    "    x = Conv1D(row_hidden, kernel_size=3, padding = 'same')(x)\n",
    "    encoded_rows = Bidirectional(LSTM(row_hidden, return_sequences = True))(x)\n",
    "    return LSTM(col_hidden)(encoded_rows)\n",
    "# read it by rows\n",
    "first_read = lstm_pipe(input)\n",
    "# read it by columns\n",
    "trans_read = lstm_pipe(Permute(dims = (1,2))(input))\n",
    "encoded_columns = concatenate([first_read, trans_read])\n",
    "encoded_columns = Dropout(0.2)(encoded_columns)\n",
    "prediction = Dense(num_classes, activation='softmax')(encoded_columns)\n",
    "model = Model(input, prediction)\n",
    "model.compile(loss='categorical_crossentropy',\n",
    "              optimizer='adam',\n",
    "              metrics=['accuracy'])\n",
    "model.summary()"
   ]
  },
  {
   "cell_type": "code",
   "execution_count": 28,
   "metadata": {},
   "outputs": [
    {
     "name": "stdout",
     "output_type": "stream",
     "text": [
      "Epoch 1/2\n",
      "375/375 [==============================] - 45s 103ms/step - loss: 0.5844 - accuracy: 0.7841 - val_loss: 0.4277 - val_accuracy: 0.8412\n",
      "Epoch 2/2\n",
      "375/375 [==============================] - 37s 99ms/step - loss: 0.3944 - accuracy: 0.8561 - val_loss: 0.3838 - val_accuracy: 0.8594\n"
     ]
    }
   ],
   "source": [
    "history = model.fit(X_train, y_train,\n",
    "              batch_size=batch_size,\n",
    "              epochs=epochs,\n",
    "              verbose=1,\n",
    "              validation_data=(X_val, y_val))"
   ]
  },
  {
   "cell_type": "code",
   "execution_count": 30,
   "metadata": {},
   "outputs": [
    {
     "name": "stdout",
     "output_type": "stream",
     "text": [
      "Test loss: 0.3952642009496689\n",
      "Test accuracy: 0.8535\n"
     ]
    }
   ],
   "source": [
    "scores = model.evaluate(X_test, y_test, verbose=0)\n",
    "print('Test loss:', scores[0])\n",
    "print('Test accuracy:', scores[1])"
   ]
  },
  {
   "cell_type": "code",
   "execution_count": 41,
   "metadata": {},
   "outputs": [],
   "source": [
    "from tensorflow.keras.layers import ConvLSTM2D"
   ]
  },
  {
   "cell_type": "code",
   "execution_count": 81,
   "metadata": {},
   "outputs": [
    {
     "name": "stdout",
     "output_type": "stream",
     "text": [
      "Model: \"sequential_22\"\n",
      "_________________________________________________________________\n",
      "Layer (type)                 Output Shape              Param #   \n",
      "=================================================================\n",
      "reshape_18 (Reshape)         (None, 1, 28, 28, 1)      0         \n",
      "_________________________________________________________________\n",
      "conv_lst_m2d_20 (ConvLSTM2D) (None, 1, 28, 28, 8)      2624      \n",
      "_________________________________________________________________\n",
      "batch_normalization_9 (Batch (None, 1, 28, 28, 8)      32        \n",
      "_________________________________________________________________\n",
      "conv_lst_m2d_21 (ConvLSTM2D) (None, 28, 28, 10)        6520      \n",
      "_________________________________________________________________\n",
      "max_pooling2d_9 (MaxPooling2 (None, 14, 14, 10)        0         \n",
      "_________________________________________________________________\n",
      "flatten_9 (Flatten)          (None, 1960)              0         \n",
      "_________________________________________________________________\n",
      "dense_23 (Dense)             (None, 10)                19610     \n",
      "_________________________________________________________________\n",
      "activation_18 (Activation)   (None, 10)                0         \n",
      "_________________________________________________________________\n",
      "dropout_11 (Dropout)         (None, 10)                0         \n",
      "_________________________________________________________________\n",
      "dense_24 (Dense)             (None, 10)                110       \n",
      "_________________________________________________________________\n",
      "activation_19 (Activation)   (None, 10)                0         \n",
      "=================================================================\n",
      "Total params: 28,896\n",
      "Trainable params: 28,880\n",
      "Non-trainable params: 16\n",
      "_________________________________________________________________\n"
     ]
    },
    {
     "data": {
      "text/plain": [
       "<tf.Tensor: shape=(8, 10), dtype=float64, numpy=\n",
       "array([[0.10030874, 0.10020405, 0.09998551, 0.10012555, 0.09982402,\n",
       "        0.10002077, 0.09999278, 0.10016399, 0.09939686, 0.09997772],\n",
       "       [0.10027985, 0.10001056, 0.1000442 , 0.10011401, 0.0998605 ,\n",
       "        0.10001344, 0.09997553, 0.10015137, 0.09947745, 0.10007308],\n",
       "       [0.1001572 , 0.10015505, 0.09987595, 0.09990805, 0.09984163,\n",
       "        0.10002672, 0.10025749, 0.10024177, 0.0993303 , 0.10020583],\n",
       "       [0.10030406, 0.10022779, 0.09994106, 0.10000626, 0.09984721,\n",
       "        0.10002684, 0.10012706, 0.10008898, 0.09938771, 0.10004302],\n",
       "       [0.10020745, 0.10016219, 0.09992776, 0.10002901, 0.09984393,\n",
       "        0.10005222, 0.10009301, 0.10020543, 0.0993995 , 0.10007951],\n",
       "       [0.10031471, 0.10001338, 0.10001156, 0.10004745, 0.09990501,\n",
       "        0.10004564, 0.10003238, 0.10007351, 0.09946491, 0.10009145],\n",
       "       [0.1001649 , 0.10021419, 0.09998246, 0.09994947, 0.09984486,\n",
       "        0.09994373, 0.1001482 , 0.10003109, 0.09961965, 0.10010145],\n",
       "       [0.10010827, 0.10019253, 0.09989103, 0.09981687, 0.09988137,\n",
       "        0.09998334, 0.10031793, 0.10005514, 0.09955771, 0.1001958 ]])>"
      ]
     },
     "execution_count": 81,
     "metadata": {},
     "output_type": "execute_result"
    }
   ],
   "source": [
    "from tensorflow.keras.layers import *\n",
    "from tensorflow.keras import Sequential\n",
    "import numpy as np\n",
    "\n",
    "img_width, img_height = 28, 28\n",
    "channels=1\n",
    "input_shape = (img_width, img_height, channels)\n",
    "batch_size = 8\n",
    "\n",
    "model = Sequential()\n",
    "model.add(Reshape((1,) + input_shape, input_shape=input_shape))\n",
    "model.add(ConvLSTM2D(filters=8, kernel_size=(3, 3),\n",
    "                     activation='relu',\n",
    "                     return_sequences=True,\n",
    "                     padding='same',\n",
    "                     input_shape=(None, img_width, img_height, channels)))\n",
    "model.add(BatchNormalization())\n",
    "model.add(ConvLSTM2D(10, (3, 3), activation='relu', padding='same'))\n",
    "model.add(MaxPooling2D(pool_size=(2, 2)))\n",
    "model.add(Flatten())\n",
    "model.add(Dense(10))\n",
    "model.add(Activation('relu'))\n",
    "model.add(Dropout(0.5))\n",
    "model.add(Dense(10))\n",
    "model.add(Activation('softmax'))\n",
    "\n",
    "# model.compile(loss='categorical_crossentropy', optimizer='rmsprop')\n",
    "model.compile(loss='categorical_crossentropy', optimizer='adam', metrics=['accuracy'])\n",
    "\n",
    "model.summary()\n",
    "\n",
    "fake_picture = np.random.rand(*((batch_size,) + input_shape)).astype(np.float32)\n",
    "model(fake_picture)"
   ]
  },
  {
   "cell_type": "code",
   "execution_count": 82,
   "metadata": {},
   "outputs": [],
   "source": [
    "X_train = X_train.reshape(X_train.shape[0], img_rows, img_cols, channels)\n",
    "X_test = X_test.reshape(X_test.shape[0], img_rows, img_cols,channels)\n",
    "X_val = X_val.reshape(X_val.shape[0], img_rows, img_cols,channels)"
   ]
  },
  {
   "cell_type": "code",
   "execution_count": 88,
   "metadata": {},
   "outputs": [
    {
     "name": "stdout",
     "output_type": "stream",
     "text": [
      "Epoch 1/10\n",
      "388/388 [==============================] - 17s 44ms/step - loss: 0.8256 - accuracy: 0.6800 - val_loss: 0.4008 - val_accuracy: 0.8777\n",
      "Epoch 2/10\n",
      "388/388 [==============================] - 17s 44ms/step - loss: 0.8219 - accuracy: 0.6816 - val_loss: 0.3881 - val_accuracy: 0.8819\n",
      "Epoch 3/10\n",
      "388/388 [==============================] - 17s 45ms/step - loss: 0.8113 - accuracy: 0.6835 - val_loss: 0.3939 - val_accuracy: 0.8799\n",
      "Epoch 4/10\n",
      "388/388 [==============================] - 17s 45ms/step - loss: 0.8038 - accuracy: 0.6902 - val_loss: 0.3793 - val_accuracy: 0.8747\n",
      "Epoch 5/10\n",
      "388/388 [==============================] - 17s 45ms/step - loss: 0.7992 - accuracy: 0.6926 - val_loss: 0.3842 - val_accuracy: 0.8824\n",
      "Epoch 6/10\n",
      "388/388 [==============================] - 17s 45ms/step - loss: 0.7973 - accuracy: 0.6907 - val_loss: 0.3916 - val_accuracy: 0.8761\n",
      "Epoch 7/10\n",
      "388/388 [==============================] - 17s 45ms/step - loss: 0.7767 - accuracy: 0.7017 - val_loss: 0.3719 - val_accuracy: 0.8866\n",
      "Epoch 8/10\n",
      "388/388 [==============================] - 17s 45ms/step - loss: 0.7754 - accuracy: 0.7014 - val_loss: 0.3765 - val_accuracy: 0.8865\n",
      "Epoch 9/10\n",
      "388/388 [==============================] - 17s 45ms/step - loss: 0.7780 - accuracy: 0.6994 - val_loss: 0.3725 - val_accuracy: 0.8876\n",
      "Epoch 10/10\n",
      "388/388 [==============================] - 17s 45ms/step - loss: 0.7700 - accuracy: 0.7035 - val_loss: 0.3767 - val_accuracy: 0.8838\n"
     ]
    }
   ],
   "source": [
    "batch_size=124\n",
    "epochs=10\n",
    "history = model.fit(X_train, y_train,\n",
    "              batch_size=batch_size,\n",
    "              epochs=epochs,\n",
    "              verbose=1,\n",
    "              validation_data=(X_val, y_val))"
   ]
  },
  {
   "cell_type": "code",
   "execution_count": 84,
   "metadata": {},
   "outputs": [
    {
     "name": "stdout",
     "output_type": "stream",
     "text": [
      "Test loss: 0.3927120571613312\n",
      "Test accuracy: 0.8686\n"
     ]
    }
   ],
   "source": [
    "scores = model.evaluate(X_test, y_test, verbose=0)\n",
    "print('Test loss:', scores[0])\n",
    "print('Test accuracy:', scores[1])"
   ]
  },
  {
   "cell_type": "code",
   "execution_count": 85,
   "metadata": {},
   "outputs": [
    {
     "data": {
      "text/plain": [
       "[0.3927120571613312, 0.8686]"
      ]
     },
     "execution_count": 85,
     "metadata": {},
     "output_type": "execute_result"
    }
   ],
   "source": [
    "scores"
   ]
  },
  {
   "cell_type": "code",
   "execution_count": 89,
   "metadata": {},
   "outputs": [
    {
     "data": {
      "image/png": "[encoded data removed]",
      "text/plain": [
       "<Figure size 640x480 with 1 Axes>"
      ]
     },
     "metadata": {},
     "output_type": "display_data"
    }
   ],
   "source": [
    "from matplotlib import pyplot as plt\n",
    "plt.plot(history.history['accuracy'])\n",
    "plt.plot(history.history['val_accuracy'])\n",
    "plt.title('model accuracy')\n",
    "plt.ylabel('accuracy')\n",
    "plt.xlabel('epoch')\n",
    "plt.legend(['train', 'val'], loc='upper left')\n",
    "plt.show()"
   ]
  },
  {
   "cell_type": "code",
   "execution_count": null,
   "metadata": {},
   "outputs": [],
   "source": []
  }
 ],
 "metadata": {
  "kernelspec": {
   "display_name": "bangla",
   "language": "python",
   "name": "python3"
  },
  "language_info": {
   "codemirror_mode": {
    "name": "ipython",
    "version": 3
   },
   "file_extension": ".py",
   "mimetype": "text/x-python",
   "name": "python",
   "nbconvert_exporter": "python",
   "pygments_lexer": "ipython3",
   "version": "3.9.16"
  },
  "orig_nbformat": 4
 },
 "nbformat": 4,
 "nbformat_minor": 2
}
